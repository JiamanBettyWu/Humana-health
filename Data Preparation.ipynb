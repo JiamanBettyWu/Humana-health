{
 "cells": [
  {
   "cell_type": "markdown",
   "metadata": {},
   "source": [
    "## Updated: Sun, 10/04\n",
    "\n",
    "Data preparation:\n",
    "\n",
    "+ Impute missing values using KNN\n",
    "+ Reduce dimentions using PCA (ncol = 149)"
   ]
  },
  {
   "cell_type": "code",
   "execution_count": 1,
   "metadata": {},
   "outputs": [],
   "source": [
    "import pandas as pd\n",
    "import numpy as np\n",
    "import boto3\n",
    "import os\n",
    "import sagemaker\n",
    "\n",
    "from sklearn.decomposition import PCA\n",
    "import matplotlib.pyplot as plt\n",
    "from sklearn.decomposition import TruncatedSVD\n",
    "from sklearn.impute import KNNImputer"
   ]
  },
  {
   "cell_type": "markdown",
   "metadata": {},
   "source": [
    "## Import variable files"
   ]
  },
  {
   "cell_type": "code",
   "execution_count": 320,
   "metadata": {},
   "outputs": [],
   "source": [
    "file_path = '../subsets/'"
   ]
  },
  {
   "cell_type": "code",
   "execution_count": 322,
   "metadata": {},
   "outputs": [],
   "source": [
    "health_pca_var_names = [var for var in pd.read_fwf(file_path +'health-PCA.txt',header=None)[0]]\n",
    "credit_pca_var_names = [var for var in pd.read_fwf(file_path + 'credit-PCA.txt',header=None)[0]]\n",
    "med_pay_pca_var_names = [var for var in pd.read_fwf(file_path + 'medical-payment-PCA.txt',header=None)[0]]\n",
    "var_names = [var for var in pd.read_fwf(file_path + 'other-variables.txt',header=None)[0]]"
   ]
  },
  {
   "cell_type": "code",
   "execution_count": 34,
   "metadata": {},
   "outputs": [],
   "source": [
    "all_vars = health_pca_var_names + credit_pca_var_names + med_pay_pca_var_names + var_names"
   ]
  },
  {
   "cell_type": "markdown",
   "metadata": {},
   "source": [
    "## Read datasets\n",
    "\n",
    "Divided the original dataset into 4 smaller subsets.\n",
    "\n",
    "+ `health_df`: dataset for health condition-related variables (no missing value - PCA is ok)\n",
    "+ `credit_df`: dataset for financial information (need to impute missing values)\n",
    "+ `med_pay_df`: dataset for medical payment related variables (need to impute missing values)\n",
    "+  `df`: dataset for variables that do not need PCA (need to impute missing values)"
   ]
  },
  {
   "cell_type": "code",
   "execution_count": 10,
   "metadata": {},
   "outputs": [],
   "source": [
    "health_df = pd.read_csv('../data/2020_Competition_Training.csv', usecols=health_pca_var_names,low_memory = False)\n",
    "credit_df = pd.read_csv('../data/2020_Competition_Training.csv', usecols=credit_pca_var_names,low_memory = False)\n",
    "med_pay_df = pd.read_csv('../data/2020_Competition_Training.csv', usecols=med_pay_pca_var_names,low_memory = False)\n",
    "df = pd.read_csv('../data/2020_Competition_Training.csv', usecols=var_names,low_memory = False)\n",
    "\n"
   ]
  },
  {
   "cell_type": "code",
   "execution_count": 132,
   "metadata": {},
   "outputs": [],
   "source": [
    "# df_all = pd.read_csv('../data/2020_Competition_Training.csv', usecols=all_vars,low_memory = False)\n",
    "df_all = pd.concat([health_df, credit_df, med_pay_df, df], axis = 1)"
   ]
  },
  {
   "cell_type": "code",
   "execution_count": 29,
   "metadata": {},
   "outputs": [
    {
     "data": {
      "text/plain": [
       "array(['ENG', 'SPA'], dtype=object)"
      ]
     },
     "execution_count": 29,
     "metadata": {},
     "output_type": "execute_result"
    }
   ],
   "source": [
    "df_all[\"lang_spoken_cd\"].replace(\"E\", \"ENG\", inplace = True) # Encode \"E\" as \"ENG\""
   ]
  },
  {
   "cell_type": "markdown",
   "metadata": {},
   "source": [
    "------"
   ]
  },
  {
   "cell_type": "code",
   "execution_count": 182,
   "metadata": {},
   "outputs": [],
   "source": [
    "def encoding_none_missing_values(col):\n",
    "\n",
    "    from sklearn import preprocessing\n",
    "    le = preprocessing.LabelEncoder()\n",
    "\n",
    "    missing_vals = col[col.isnull()]\n",
    "    no_missing = col[~col.isnull()]\n",
    "    \n",
    "    no_missing_t = le.fit_transform(no_missing)\n",
    "    no_missing = pd.Series(no_missing_t, index = no_missing.index)\n",
    "    col_new = pd.concat([no_missing, missing_vals]).sort_index()\n",
    "    return col_new"
   ]
  },
  {
   "cell_type": "code",
   "execution_count": 268,
   "metadata": {},
   "outputs": [],
   "source": [
    "encode_df = df_all.select_dtypes(include = \"object\")\n",
    "encode_df = encode_df.copy()\n",
    "for (columnName, columnData) in encode_df.iteritems(): \n",
    "    new_col = encoding_none_missing_values(columnData)\n",
    "    encode_df.loc[:,columnName] = new_col"
   ]
  },
  {
   "cell_type": "code",
   "execution_count": 281,
   "metadata": {},
   "outputs": [],
   "source": [
    "df_all.loc[:,df_all.columns.isin(encode_df.columns)] = encode_df"
   ]
  },
  {
   "cell_type": "code",
   "execution_count": 316,
   "metadata": {
    "scrolled": true
   },
   "outputs": [],
   "source": [
    "#  df_all.to_csv(\"df_all.csv\")"
   ]
  },
  {
   "cell_type": "code",
   "execution_count": null,
   "metadata": {},
   "outputs": [],
   "source": [
    "k = 2 \n",
    "\n",
    "imputer = KNNImputer(n_neighbors=k)\n",
    "\n",
    "df_impute1 = pd.DataFrame(imputer.fit_transform(df_all[:10000]))\n",
    "df_impute2 = pd.DataFrame(imputer.fit_transform(df_all[10000:20000]))\n",
    "df_impute3 = pd.DataFrame(imputer.fit_transform(df_all[20000:30000]))\n",
    "df_impute4 = pd.DataFrame(imputer.fit_transform(df_all[30000:40000]))\n",
    "df_impute5 = pd.DataFrame(imputer.fit_transform(df_all[40000:50000]))\n",
    "df_impute6 = pd.DataFrame(imputer.fit_transform(df_all[50000:60000]))\n",
    "df_impute7 = pd.DataFrame(imputer.fit_transform(df_all[60000:]))"
   ]
  },
  {
   "cell_type": "code",
   "execution_count": null,
   "metadata": {},
   "outputs": [],
   "source": [
    "df_full = pd.concat([df_impute1, df_impute2, df_impute3, df_impute4, df_impute5, df_impute6, df_impute7])\n",
    "df_full.columns  = df_all.columns"
   ]
  },
  {
   "cell_type": "code",
   "execution_count": null,
   "metadata": {},
   "outputs": [],
   "source": [
    "df_full.reset_index(drop = True, inplace = True)\n",
    "# df_full.to_csv(\"df_full.csv\")"
   ]
  },
  {
   "cell_type": "markdown",
   "metadata": {},
   "source": [
    "## Health PCA"
   ]
  },
  {
   "cell_type": "code",
   "execution_count": null,
   "metadata": {},
   "outputs": [],
   "source": [
    "pca_health = PCA(n_components = 80)\n",
    "X_health = pd.DataFrame(pca_health.fit_transform(df_full[health_pca_var_names]))\n",
    "sum(pca_health.explained_variance_ratio_)"
   ]
  },
  {
   "cell_type": "markdown",
   "metadata": {},
   "source": [
    "## Credit PCA"
   ]
  },
  {
   "cell_type": "code",
   "execution_count": null,
   "metadata": {},
   "outputs": [],
   "source": [
    "pca_credit = PCA(n_components = 5)\n",
    "X_credit = pd.DataFrame(pca_credit.fit_transform(df_full[credit_pca_var_names]))\n",
    "sum(pca_credit.explained_variance_ratio_)"
   ]
  },
  {
   "cell_type": "markdown",
   "metadata": {},
   "source": [
    "## Medical Payment PCA"
   ]
  },
  {
   "cell_type": "code",
   "execution_count": null,
   "metadata": {},
   "outputs": [],
   "source": [
    "pca_med_pay = PCA(n_components = 4)\n",
    "X_med_pay = pd.DataFrame(pca_med_pay.fit_transform(df_full[med_pay_pca_var_names]))\n",
    "sum(pca_med_pay.explained_variance_ratio_)"
   ]
  },
  {
   "cell_type": "markdown",
   "metadata": {},
   "source": [
    "## Concat  all PCA dataframes"
   ]
  },
  {
   "cell_type": "code",
   "execution_count": null,
   "metadata": {},
   "outputs": [],
   "source": [
    "other_df = df_full.loc[:,var_names]"
   ]
  },
  {
   "cell_type": "code",
   "execution_count": null,
   "metadata": {},
   "outputs": [],
   "source": [
    "PCA_df = pd.concat([X_health, X_credit, X_med_pay, other_df], axis = 1)\n",
    "# PCA_df.to_csv(\"pca_df.csv\")"
   ]
  }
 ],
 "metadata": {
  "kernelspec": {
   "display_name": "Python 3",
   "language": "python",
   "name": "python3"
  },
  "language_info": {
   "codemirror_mode": {
    "name": "ipython",
    "version": 3
   },
   "file_extension": ".py",
   "mimetype": "text/x-python",
   "name": "python",
   "nbconvert_exporter": "python",
   "pygments_lexer": "ipython3",
   "version": "3.7.6"
  }
 },
 "nbformat": 4,
 "nbformat_minor": 4
}
