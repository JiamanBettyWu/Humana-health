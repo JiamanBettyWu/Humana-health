{
 "cells": [
  {
   "cell_type": "markdown",
   "metadata": {},
   "source": [
    "## linear regression"
   ]
  },
  {
   "cell_type": "code",
   "execution_count": null,
   "metadata": {},
   "outputs": [],
   "source": [
    "from sklearn.model_selection import train_test_split\n",
    "\n",
    "from sklearn.linear_model import LogisticRegression\n",
    "from sklearn.ensemble import RandomForestClassifier\n",
    "\n",
    "from sklearn import metrics\n",
    "from sklearn.metrics import roc_auc_score\n",
    "from sklearn.metrics import roc_curve\n",
    "import xgboost as xgb\n",
    "\n",
    "import matplotlib.pyplot as plt"
   ]
  },
  {
   "cell_type": "code",
   "execution_count": null,
   "metadata": {},
   "outputs": [],
   "source": [
    "pca_df = pd.read_csv(\"pca_train.csv\", low_memory = False)\n",
    "\n",
    "X_train, X_test, y_train, y_test = train_test_split(pca_df.iloc[:,1:], pca_df.iloc[:,0], \n",
    "                                                    test_size=0.4, random_state=42, stratify = pca_df.iloc[:,0])\n",
    "X_test, X_val, y_test, y_val = train_test_split(X_test, y_test, \n",
    "                                                    test_size=0.5, random_state=42, stratify = y_test)\n",
    "\n",
    "print(f'Shape of train {X_train.shape} \\n Shape of validate {X_val.shape} \\n Shape of test {X_test.shape}')"
   ]
  },
  {
   "cell_type": "code",
   "execution_count": null,
   "metadata": {},
   "outputs": [],
   "source": [
    "clf = LogisticRegression(max_iter=10000, tol=0.1, solver = \"saga\")\n",
    "clf.fit(X_train, y_train)"
   ]
  },
  {
   "cell_type": "code",
   "execution_count": null,
   "metadata": {},
   "outputs": [],
   "source": [
    "y_val_pred = clf.predict(X_val)\n",
    "y_test_pred = clf.predict(X_test)"
   ]
  },
  {
   "cell_type": "code",
   "execution_count": null,
   "metadata": {},
   "outputs": [],
   "source": [
    "print(roc_auc_score(y_val, y_val_pred))\n",
    "print(roc_auc_score(y_test, y_test_pred))"
   ]
  },
  {
   "cell_type": "markdown",
   "metadata": {},
   "source": [
    "## random forest"
   ]
  },
  {
   "cell_type": "code",
   "execution_count": null,
   "metadata": {},
   "outputs": [],
   "source": [
    "# feature scaling\n",
    "from sklearn.preprocessing import StandardScaler\n",
    "\n",
    "sc = StandardScaler()\n",
    "X_train = sc.fit_transform(X_train)\n",
    "X_test = sc.transform(X_test)\n",
    "\n",
    "\n",
    "# Create the model with 100 trees\n",
    "model = RandomForestClassifier(n_estimators=100, \n",
    "                               random_state=42, \n",
    "                               max_features = 'auto',\n",
    "                               n_jobs=-1, verbose = 1)\n",
    "\n",
    "# Fit on training data\n",
    "model.fit(X_train, y_train.values.ravel())"
   ]
  },
  {
   "cell_type": "code",
   "execution_count": null,
   "metadata": {},
   "outputs": [],
   "source": [
    "X_train_rf_predictions = model.predict(X_train)\n",
    "X_train_rf_probs = model.predict_proba(X_train)[:, 1]\n",
    "\n",
    "rf_predictions = model.predict(X_test)\n",
    "rf_probs = model.predict_proba(X_test)[:, 1]\n",
    "rf_probs_val = model.predict_proba(X_val)[:, 1]"
   ]
  },
  {
   "cell_type": "code",
   "execution_count": null,
   "metadata": {},
   "outputs": [],
   "source": [
    "print(roc_auc_score(y_test, rf_probs))\n",
    "print(roc_auc_score(y_val.values.ravel(), rf_probs_val))"
   ]
  },
  {
   "cell_type": "code",
   "execution_count": null,
   "metadata": {},
   "outputs": [],
   "source": [
    "# AUC-ROC curve\n",
    "rf_roc_auc = roc_auc_score(y_test, rf_predictions)\n",
    "fpr, tpr, thresholds = roc_curve(y_test, model.predict_proba(X_test)[:,1])\n",
    "plt.figure()\n",
    "plt.plot(fpr, tpr, label='Random Forest (area = %0.2f)' % roc_auc_score(y_test.values.ravel(), rf_probs))\n",
    "plt.plot([0, 1], [0, 1],'r--')\n",
    "plt.xlim([0.0, 1.0])\n",
    "plt.ylim([0.0, 1.05])\n",
    "plt.xlabel('False Positive Rate')\n",
    "plt.ylabel('True Positive Rate')\n",
    "plt.title('Random Forest Receiver Operating Characteristic')\n",
    "plt.legend(loc=\"lower right\")\n",
    "plt.savefig('rf_ROC')\n",
    "plt.show()"
   ]
  },
  {
   "cell_type": "markdown",
   "metadata": {},
   "source": [
    "## xgboost"
   ]
  },
  {
   "cell_type": "code",
   "execution_count": null,
   "metadata": {},
   "outputs": [],
   "source": [
    "train_dmatrix = xgb.DMatrix(data=X_train,label=y_train)\n",
    "val_dmatrix = xgb.DMatrix(data=X_val,label=y_val)\n",
    "test_dmatrix = xgb.DMatrix(data=X_test,label=y_test)"
   ]
  },
  {
   "cell_type": "code",
   "execution_count": null,
   "metadata": {},
   "outputs": [],
   "source": [
    "param = {'eval_metric': 'auc', 'alpha' : 69.22788372146633, 'eta' : 0.2094786309587594,\n",
    "        'min_child_weight' : 3.2793154567014025, 'subsample' : 0.8724888256198183,\n",
    "        'objective': 'binary:logistic'}"
   ]
  },
  {
   "cell_type": "code",
   "execution_count": null,
   "metadata": {},
   "outputs": [],
   "source": [
    "evallist = [(val_dmatrix, 'eval'), (train_dmatrix, 'train')]\n",
    "num_round = 50\n",
    "\n",
    "bst = xgb.train(param, train_dmatrix, num_round, evallist)\n",
    "\n",
    "bst.save_model('xgb1.model')"
   ]
  },
  {
   "cell_type": "code",
   "execution_count": null,
   "metadata": {},
   "outputs": [],
   "source": [
    "preds = bst.predict(test_dmatrix)\n",
    "roc_auc_score(y_test, preds)"
   ]
  },
  {
   "cell_type": "code",
   "execution_count": null,
   "metadata": {},
   "outputs": [],
   "source": [
    "# plot importance features\n",
    "xgb.plot_importance(bst, max_num_features = 25)\n",
    "\n",
    "# plot tree importance\n",
    "fig, ax = plt.subplots(figsize=(80, 70))\n",
    "xgb.plot_tree(bst, num_trees=3, ax=ax)\n",
    "# plt.show()\n",
    "plt.savefig(\"tree.jpeg\", quality = 100)"
   ]
  },
  {
   "cell_type": "markdown",
   "metadata": {},
   "source": [
    "----------"
   ]
  },
  {
   "cell_type": "markdown",
   "metadata": {},
   "source": [
    "## predicting for the holdout file"
   ]
  },
  {
   "cell_type": "code",
   "execution_count": null,
   "metadata": {},
   "outputs": [],
   "source": [
    "pca_holdout_df = pd.read_csv(\"pca_holdout.csv\", low_memory = False)\n",
    "\n",
    "holdout_dmatrix = xgb.DMatrix(data=pca_holdout_df)\n",
    "\n",
    "holdout_pred = bst.predict(holdout_dmatrix)"
   ]
  },
  {
   "cell_type": "code",
   "execution_count": null,
   "metadata": {},
   "outputs": [],
   "source": [
    "ID = pd.read_csv(\"../data/2020_Competition_Holdout.csv\", usecols = [0])\n",
    "\n",
    "holdout_pred_df = pd.concat([ID, pd.DataFrame(holdout_pred)], axis = 1)\n",
    "\n",
    "holdout_pred_df.columns = ['ID', 'SCORE']\n",
    "\n",
    "holdout_pred_df[\"RANK\"] = holdout_pred_df[\"SCORE\"].rank(method='max', ascending = False)\n",
    "\n",
    "holdout_pred_df.to_csv(\"CaseCompetition_Jennie_Sun.csv\", index = False)"
   ]
  }
 ],
 "metadata": {
  "kernelspec": {
   "display_name": "Python 3",
   "language": "python",
   "name": "python3"
  },
  "language_info": {
   "codemirror_mode": {
    "name": "ipython",
    "version": 3
   },
   "file_extension": ".py",
   "mimetype": "text/x-python",
   "name": "python",
   "nbconvert_exporter": "python",
   "pygments_lexer": "ipython3",
   "version": "3.7.6"
  }
 },
 "nbformat": 4,
 "nbformat_minor": 4
}
